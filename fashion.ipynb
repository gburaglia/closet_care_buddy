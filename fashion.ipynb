{
 "cells": [
  {
   "cell_type": "code",
   "execution_count": null,
   "metadata": {},
   "outputs": [],
   "source": [
    "from mmfashion.apis import inference_retriever, init_model\n",
    "\n",
    "# Path to config and checkpoint files\n",
    "config_file = 'configs/retriever_in_shop/global_retriever_vgg_loss_id.py'\n",
    "checkpoint_file = 'checkpoint/Global-Retriever/epoch_10.pth'\n",
    "\n",
    "# Initialize the model\n",
    "model = init_model(config_file, checkpoint_file, device='cuda:0')\n",
    "\n",
    "# Input image path\n",
    "image_path = 'https://media.istockphoto.com/id/1440977634/photo/vertical-shot-of-the-beautiful-pink-dress-isolated-on-the-white-background.jpg?s=612x612&w=0&k=20&c=3lSPxjs-xh7PGeW2eGnPlawyw9gcJPlnc1QWnwnkNyI='\n",
    "\n",
    "# Perform inference\n",
    "result = inference_retriever(model, image_path)\n",
    "print(\"Retrieval result:\", result)\n",
    "\n"
   ]
  }
 ],
 "metadata": {
  "kernelspec": {
   "display_name": ".venv",
   "language": "python",
   "name": "python3"
  },
  "language_info": {
   "name": "python",
   "version": "3.12.7"
  }
 },
 "nbformat": 4,
 "nbformat_minor": 2
}
